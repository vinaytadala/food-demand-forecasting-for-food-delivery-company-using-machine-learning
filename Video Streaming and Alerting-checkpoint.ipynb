{
 "cells": [
  {
   "cell_type": "code",
   "execution_count": 2,
   "metadata": {},
   "outputs": [
    {
     "name": "stdout",
     "output_type": "stream",
     "text": [
      "[[1]]\n",
      "SM73eaef352cd24e5b80beecb2e09f0ed0\n",
      "Fire Detected\n",
      "SMS sent!\n"
     ]
    }
   ],
   "source": [
    "\n",
    "import cv2\n",
    "#import facevec\n",
    "import numpy as np\n",
    "import smtplib\n",
    "from keras.preprocessing import image \n",
    "from keras.models  import load_model\n",
    "from twilio.rest import Client\n",
    "\n",
    "model = load_model(r'forest1.h5') \n",
    "video = cv2.VideoCapture(0)\n",
    "name = ['forest','with fire']\n",
    "    \n",
    "while(1):\n",
    "    success, frame = video.read()\n",
    "    cv2.imwrite(\"image.jpg\",frame)\n",
    "    img = image.load_img(\"image.jpg\",target_size = (128,128))\n",
    "    x  = image.img_to_array(img)\n",
    "    x = np.expand_dims(x,axis = 0)\n",
    "    pred=np.argmax(model.predict(x),axis=1)\n",
    "    pred = model.predict_classes(x)\n",
    "    p = pred[0][0]\n",
    "    print(pred)\n",
    "    cv2.putText(frame, \"predicted  class = \"+str(name[p]), (100,100), cv2.FONT_HERSHEY_SIMPLEX, 1, (0,0,0), 1)\n",
    "    \n",
    "    \n",
    "    pred = model.predict_classes(x)\n",
    "    if pred[0]==1:\n",
    "        account_sid = 'AC509848266c8a5e9e67aca996b32a1398'\n",
    "        auth_token = '9443af4f2ad4a9865a61b8b0753659e9'\n",
    "        client = Client(account_sid, auth_token)\n",
    "\n",
    "        message = client.messages \\\n",
    "        .create(\n",
    "         body='Forest Fire is detected, stay alert',\n",
    "         from_='+15404538941', #twilio free number\n",
    "         to='+919302455750')\n",
    "        print(message.sid)\n",
    "    \n",
    "        print('Fire Detected')\n",
    "        print ('SMS sent!')\n",
    "        break\n",
    "    else:\n",
    "        print(\"no danger\")\n",
    "       #break\n",
    "    cv2.imshow(\"image\",frame)\n",
    "   \n",
    "    if cv2.waitKey(1) & 0xFF == ord('a'): \n",
    "        break\n",
    "\n",
    "video.release()\n",
    "cv2.destroyAllWindows()"
   ]
  },
  {
   "cell_type": "code",
   "execution_count": null,
   "metadata": {},
   "outputs": [],
   "source": []
  }
 ],
 "metadata": {
  "kernelspec": {
   "display_name": "Python 3",
   "language": "python",
   "name": "python3"
  },
  "language_info": {
   "codemirror_mode": {
    "name": "ipython",
    "version": 3
   },
   "file_extension": ".py",
   "mimetype": "text/x-python",
   "name": "python",
   "nbconvert_exporter": "python",
   "pygments_lexer": "ipython3",
   "version": "3.8.5"
  }
 },
 "nbformat": 4,
 "nbformat_minor": 2
}
